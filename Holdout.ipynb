{
  "nbformat": 4,
  "nbformat_minor": 0,
  "metadata": {
    "colab": {
      "name": "Holdout.ipynb",
      "provenance": [],
      "authorship_tag": "ABX9TyPovTfogdrwMO8hq1zycObY",
      "include_colab_link": true
    },
    "kernelspec": {
      "name": "python3",
      "display_name": "Python 3"
    },
    "language_info": {
      "name": "python"
    }
  },
  "cells": [
    {
      "cell_type": "markdown",
      "metadata": {
        "id": "view-in-github",
        "colab_type": "text"
      },
      "source": [
        "<a href=\"https://colab.research.google.com/github/chiaramarzi/ML-models-validation/blob/main/Holdout.ipynb\" target=\"_parent\"><img src=\"https://colab.research.google.com/assets/colab-badge.svg\" alt=\"Open In Colab\"/></a>"
      ]
    },
    {
      "cell_type": "markdown",
      "metadata": {
        "id": "kTe8Jj3qhlw5"
      },
      "source": [
        "# Artificial intelligence (AI) for health - potentials\n"
      ]
    },
    {
      "cell_type": "markdown",
      "metadata": {
        "id": "BGoOZvGALKgw"
      },
      "source": [
        "*   **Data mining**: finding pattern in big data\n",
        "*   **Biomarker discovery**: determining potential (compound) biomarkers\n",
        "*   The **predicitive nature** of machine learning strategies is highly in line with the aim of clinical diagnosis and prognosis **in the single patient**"
      ]
    },
    {
      "cell_type": "markdown",
      "metadata": {
        "id": "UUGpx9Z7iqL0"
      },
      "source": [
        "# Models validation\n",
        "\n"
      ]
    },
    {
      "cell_type": "markdown",
      "metadata": {
        "id": "4JwXyfF-LRej"
      },
      "source": [
        "In machine learning, model validation is referred to as the process where a trained model is evaluated with a testing data set. The testing data set is a separate portion of the same data set from which the training set is derived.\n",
        "Model validation is carried out after model training.\n",
        "\n",
        "Estimation of **unbiased generalization performance** of the model"
      ]
    },
    {
      "cell_type": "markdown",
      "metadata": {
        "id": "iZ_Jo9T8SBbc"
      },
      "source": [
        "# Outline"
      ]
    },
    {
      "cell_type": "markdown",
      "metadata": {
        "id": "z9T0es-dSFsQ"
      },
      "source": [
        "* Holdout validation\n",
        "* K-fold cross-validation (CV)\n",
        "* Leave-One-Out CV (LOOCV)\n",
        "* Hyperparameters tuning\n",
        "* Training, validation and test set: the holdout validation\n",
        "* training, validation and test set: the nested CV\n",
        "* Sampling bias\n",
        "* Repetition of holdout validation\n",
        "* Repetition of CV\n",
        "* Unbalanced datasets"
      ]
    },
    {
      "cell_type": "markdown",
      "metadata": {
        "id": "kfjOSjyakq9H"
      },
      "source": [
        "# Age prediction based on neuroimaging features"
      ]
    },
    {
      "cell_type": "markdown",
      "metadata": {
        "id": "OTl_nz8OLv_C"
      },
      "source": [
        "\n",
        "\n",
        "*   Data: T1-weighted images of 86 healthy subjects with age ranging from 19 to 85 years (41 males and 45 females, age 44.2 ± 17.1 years, mean ± standard deviation). Data are freely accessible at [here](https://fcon_1000.projects.nitrc.org/) and described in (Mazziotta et al., 2001)\n",
        "*   Features:\n",
        "  * Cortical thickness (mCT)\n",
        "  * Gyrification index (Pial_mean_GI)\n",
        "  * Fractal dimension (FD)\n",
        "* Task:\n",
        "  * Regression\n",
        "  * Classification (\"young\" vs. \"old\")\n",
        "\n",
        "The same data and features have been previously investigated in (Marzi et al., 2020).\n",
        "\n",
        "\n",
        "**References**\n",
        "\n",
        "Marzi, C., Giannelli, M., Tessa, C. et al. Toward a more reliable characterization of fractal properties of the cerebral cortex of healthy subjects during the lifespan. Sci Rep 10, 16957 (2020). https://doi.org/10.1038/s41598-020-73961-w\n",
        "\n",
        "Mazziotta, J. et al. A probabilistic atlas and reference system for the human brain: International Consortium for Brain Mapping (ICBM). Philos. Trans. R. Soc. Lond. B Biol. Sci. 356, 1293–1322. https://doi.org/10.1098/rstb.2001.0915 (2001)."
      ]
    },
    {
      "cell_type": "markdown",
      "metadata": {
        "id": "Im3BWk_5OVtS"
      },
      "source": [
        "# Libraries and data loading"
      ]
    },
    {
      "cell_type": "code",
      "metadata": {
        "id": "-MZY9faAOjaj"
      },
      "source": [
        "# Libraries loading\n",
        "import pandas as pd\n",
        "import numpy as np\n",
        "from sklearn.model_selection import train_test_split, KFold\n",
        "from sklearn.svm import SVR, SVC\n",
        "from sklearn.metrics import mean_absolute_error, accuracy_score\n",
        "\n",
        "# Regression data\n",
        "url = 'https://raw.githubusercontent.com/chiaramarzi/ML-models-validation/main/data_regression.csv?token=AMEZNGPJVEPXJHPEKZBE3CDARQOUO'\n",
        "reg_data = pd.read_csv(url)\n",
        "\n",
        "# Balanced classification data\n",
        "url = 'https://raw.githubusercontent.com/chiaramarzi/ML-models-validation/main/data_classification_balanced.csv?token=AMEZNGM6BECXUQXKH7CC2D3ARQOYC'\n",
        "class_data = pd.read_csv(url)\n",
        "\n",
        "# Unbalanced classification data\n",
        "url = 'https://raw.githubusercontent.com/chiaramarzi/ML-models-validation/main/data_classification_unbalanced.csv?token=AMEZNGON3NZJCTLXDG66XU3ARQOZW'\n",
        "unbal_class_data = pd.read_csv(url)"
      ],
      "execution_count": null,
      "outputs": []
    },
    {
      "cell_type": "code",
      "metadata": {
        "id": "tSE0z7esU8Ky"
      },
      "source": [
        "reg_data"
      ],
      "execution_count": null,
      "outputs": []
    },
    {
      "cell_type": "code",
      "metadata": {
        "id": "ndM8efnpVGAP"
      },
      "source": [
        "class_data"
      ],
      "execution_count": null,
      "outputs": []
    },
    {
      "cell_type": "code",
      "metadata": {
        "id": "2YHx6EyaVHwK"
      },
      "source": [
        "unbal_class_data"
      ],
      "execution_count": null,
      "outputs": []
    },
    {
      "cell_type": "markdown",
      "metadata": {
        "id": "E6G4jorBVPOI"
      },
      "source": [
        "# Holdout validation"
      ]
    }
  ]
}