{
  "nbformat": 4,
  "nbformat_minor": 0,
  "metadata": {
    "colab": {
      "name": "utils.ipynb",
      "provenance": [],
      "authorship_tag": "ABX9TyOftl3PRYkVFSoiVG6M5EhD",
      "include_colab_link": true
    },
    "kernelspec": {
      "name": "python3",
      "display_name": "Python 3"
    },
    "language_info": {
      "name": "python"
    }
  },
  "cells": [
    {
      "cell_type": "markdown",
      "metadata": {
        "id": "view-in-github",
        "colab_type": "text"
      },
      "source": [
        "<a href=\"https://colab.research.google.com/github/chiaramarzi/ML-models-validation/blob/main/utils.ipynb\" target=\"_parent\"><img src=\"https://colab.research.google.com/assets/colab-badge.svg\" alt=\"Open In Colab\"/></a>"
      ]
    },
    {
      "cell_type": "code",
      "metadata": {
        "id": "JAGkTpi_Z6Hk"
      },
      "source": [
        "def regression_holdout(X, y, seed):\n",
        "    '''\n",
        "    Parameters\n",
        "    ----------\n",
        "    X : TYPE\n",
        "        DESCRIPTION.\n",
        "    y : TYPE\n",
        "        DESCRIPTION.\n",
        "    seed : TYPE\n",
        "        DESCRIPTION.\n",
        "\n",
        "    Returns\n",
        "    -------\n",
        "    None.\n",
        "\n",
        "    '''\n",
        "    X_train, X_test, y_train, y_test = train_test_split(X, y, test_size=0.25, random_state=seed, shuffle=True)\n",
        "    #print(\"*** SEED:\", SEED)\n",
        "    #print(\"Training age:\", y_train.describe())\n",
        "    #print(\"Test age:\", y_test.describe())\n",
        "    #print()\n",
        "    clf = SVR(kernel='rbf', degree=3, gamma='scale', coef0=0.0, tol=0.001, C=1.0, epsilon=0.1, shrinking=True, cache_size=200, verbose=False, max_iter=- 1)\n",
        "    clf.fit(X_train, y_train)\n",
        "    y_pred_train = clf.predict(X_train)\n",
        "    y_pred_test = clf.predict(X_test)\n",
        "    print(\"MAE train:\", mean_absolute_error(y_train, y_pred_train))\n",
        "    print(\"MAE test:\", mean_absolute_error(y_test, y_pred_test))\n",
        "    print()\n",
        "\n",
        "def classification_holdout(X, y, seed, stratify):\n",
        "    '''\n",
        "    Parameters\n",
        "    ----------\n",
        "    X : TYPE\n",
        "        DESCRIPTION.\n",
        "    y : TYPE\n",
        "        DESCRIPTION.\n",
        "    seed : TYPE\n",
        "        DESCRIPTION.\n",
        "    stratify : TYPE\n",
        "        DESCRIPTION.\n",
        "\n",
        "    Returns\n",
        "    -------\n",
        "    None.\n",
        "\n",
        "    '''\n",
        "   \n",
        "    X_train, X_test, y_train, y_test = train_test_split(X, y, test_size=0.25, random_state=seed, shuffle=True, stratify=stratify)\n",
        "    \n",
        "    clf = SVC(C=1.0, kernel='rbf', degree=3, gamma='scale', coef0=0.0, shrinking=True, probability=False, tol=0.001, cache_size=200, class_weight=None, verbose=False, max_iter=- 1, decision_function_shape='ovr', break_ties=False, random_state=None)\n",
        "    clf.fit(X_train, y_train)\n",
        "    y_pred_train = clf.predict(X_train)\n",
        "    y_pred_test = clf.predict(X_test)\n",
        "    print(\"ACC train\", accuracy_score(y_train, y_pred_train))\n",
        "    print(\"ACC test\", accuracy_score(y_test, y_pred_test))\n",
        "    print()"
      ],
      "execution_count": null,
      "outputs": []
    }
  ]
}